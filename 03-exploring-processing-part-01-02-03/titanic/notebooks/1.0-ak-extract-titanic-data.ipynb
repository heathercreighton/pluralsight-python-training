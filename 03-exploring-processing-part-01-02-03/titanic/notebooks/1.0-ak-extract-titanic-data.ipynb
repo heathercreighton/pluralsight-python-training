{
 "cells": [
  {
   "cell_type": "markdown",
   "metadata": {},
   "source": [
    "## Extracting Titanic Disaster Data From Kaggle"
   ]
  },
  {
   "cell_type": "markdown",
   "metadata": {},
   "source": [
    "\n",
    "\n",
    "**Key Changes**\n",
    "\n",
    "- New Kaggle API to download the data from kaggle. Follow the notebook for the steps.\n"
   ]
  },
  {
   "cell_type": "markdown",
   "metadata": {},
   "source": [
    "### Setup Kaggle API token\n",
    "\n",
    "\n",
    "Steps:\n",
    "\n",
    "- Signup and login to https://kaggle.com \n",
    "- Go to the Account Tab ( `https://www.kaggle.com/<username>/account` ) and under API section, click `Create API Token`.  A file named `kaggle.json` will be downloaded.\n",
    "- place `kaggle.json` inside the root level `titanic` folder.\n",
    "- if you are using any code versioning system like git. then make sure `kaggle.json` is an entry in the `.gitignore` file so that you don't accidently share the credentials\n",
    "- install `kaggle` package as shown below\n",
    "\n",
    "For more info visit kaggle Github page: https://github.com/Kaggle/kaggle-api \n"
   ]
  },
  {
   "cell_type": "code",
   "execution_count": 1,
   "metadata": {},
   "outputs": [
    {
     "name": "stdout",
     "output_type": "stream",
     "text": [
      "Collecting kaggle\n",
      "  Downloading kaggle-1.5.12.tar.gz (58 kB)\n",
      "\u001b[K     |████████████████████████████████| 58 kB 2.6 MB/s eta 0:00:01\n",
      "\u001b[?25hRequirement already satisfied: six>=1.10 in /usr/local/lib/python3.7/site-packages (from kaggle) (1.12.0)\n",
      "Collecting certifi\n",
      "  Downloading certifi-2020.12.5-py2.py3-none-any.whl (147 kB)\n",
      "\u001b[K     |████████████████████████████████| 147 kB 2.9 MB/s eta 0:00:01\n",
      "\u001b[?25hRequirement already satisfied: python-dateutil in /usr/local/lib/python3.7/site-packages (from kaggle) (2.8.0)\n",
      "Collecting requests\n",
      "  Downloading requests-2.25.1-py2.py3-none-any.whl (61 kB)\n",
      "\u001b[K     |████████████████████████████████| 61 kB 2.7 MB/s eta 0:00:01\n",
      "\u001b[?25hCollecting tqdm\n",
      "  Downloading tqdm-4.60.0-py2.py3-none-any.whl (75 kB)\n",
      "\u001b[K     |████████████████████████████████| 75 kB 2.8 MB/s eta 0:00:01\n",
      "\u001b[?25hCollecting python-slugify\n",
      "  Downloading python-slugify-4.0.1.tar.gz (11 kB)\n",
      "Requirement already satisfied: urllib3 in /usr/local/lib/python3.7/site-packages (from kaggle) (1.25.3)\n",
      "Collecting text-unidecode>=1.3\n",
      "  Downloading text_unidecode-1.3-py2.py3-none-any.whl (78 kB)\n",
      "\u001b[K     |████████████████████████████████| 78 kB 2.8 MB/s eta 0:00:01\n",
      "\u001b[?25hCollecting chardet<5,>=3.0.2\n",
      "  Downloading chardet-4.0.0-py2.py3-none-any.whl (178 kB)\n",
      "\u001b[K     |████████████████████████████████| 178 kB 2.7 MB/s eta 0:00:01\n",
      "\u001b[?25hCollecting idna<3,>=2.5\n",
      "  Downloading idna-2.10-py2.py3-none-any.whl (58 kB)\n",
      "\u001b[K     |████████████████████████████████| 58 kB 2.9 MB/s eta 0:00:01\n",
      "\u001b[?25hUsing legacy 'setup.py install' for kaggle, since package 'wheel' is not installed.\n",
      "Using legacy 'setup.py install' for python-slugify, since package 'wheel' is not installed.\n",
      "Installing collected packages: text-unidecode, idna, chardet, certifi, tqdm, requests, python-slugify, kaggle\n",
      "\u001b[33m  WARNING: The script chardetect is installed in '/home/nt-user/.local/bin' which is not on PATH.\n",
      "  Consider adding this directory to PATH or, if you prefer to suppress this warning, use --no-warn-script-location.\u001b[0m\n",
      "\u001b[33m  WARNING: The script tqdm is installed in '/home/nt-user/.local/bin' which is not on PATH.\n",
      "  Consider adding this directory to PATH or, if you prefer to suppress this warning, use --no-warn-script-location.\u001b[0m\n",
      "    Running setup.py install for python-slugify ... \u001b[?25ldone\n",
      "\u001b[?25h    Running setup.py install for kaggle ... \u001b[?25ldone\n",
      "\u001b[?25hSuccessfully installed certifi-2020.12.5 chardet-4.0.0 idna-2.10 kaggle-1.5.12 python-slugify-4.0.1 requests-2.25.1 text-unidecode-1.3 tqdm-4.60.0\n"
     ]
    }
   ],
   "source": [
    "!pip install --user --upgrade kaggle"
   ]
  },
  {
   "cell_type": "code",
   "execution_count": null,
   "metadata": {},
   "outputs": [
    {
     "data": {
      "text/html": [
       "<script>Jupyter.notebook.kernel.restart()</script>"
      ]
     },
     "metadata": {},
     "output_type": "display_data"
    }
   ],
   "source": [
    "# restart terminal\n",
    "from IPython.display import display_html\n",
    "def restartkernel() :\n",
    "    display_html(\"<script>Jupyter.notebook.kernel.restart()</script>\",raw=True)\n",
    "restartkernel()"
   ]
  },
  {
   "cell_type": "markdown",
   "metadata": {},
   "source": [
    "#### Read API key"
   ]
  },
  {
   "cell_type": "code",
   "execution_count": 1,
   "metadata": {},
   "outputs": [],
   "source": [
    "import json\n",
    "import os\n",
    "\n",
    "api_file_path = os.path.join(os.path.pardir,'kaggle.json')\n",
    "with open(api_file_path) as f:\n",
    "    kaggle_token = json.load(f)\n",
    "    # kaggle authentication\n",
    "    os.environ[\"KAGGLE_USERNAME\"] = kaggle_token['username']\n",
    "    os.environ[\"KAGGLE_KEY\"] = kaggle_token['key']"
   ]
  },
  {
   "cell_type": "code",
   "execution_count": null,
   "metadata": {},
   "outputs": [],
   "source": [
    "print(os.environ[\"KAGGLE_USERNAME\"])"
   ]
  },
  {
   "cell_type": "markdown",
   "metadata": {},
   "source": [
    "### Using Kaggle API "
   ]
  },
  {
   "cell_type": "code",
   "execution_count": 3,
   "metadata": {},
   "outputs": [],
   "source": [
    "from kaggle.api.kaggle_api_extended import KaggleApi"
   ]
  },
  {
   "cell_type": "markdown",
   "metadata": {},
   "source": [
    "#### Important Step :\n",
    "\n",
    "You need to agree to terms and conditions of the competition for which you want to download the dataset. \n",
    "- This is a one time activity per account. \n",
    "- for Titanic competition : visit https://www.kaggle.com/c/titanic and click on \"Join Competition\" \n",
    "- and click on \"I Understand and Accept\"\n",
    "- once done, proceed to next steps"
   ]
  },
  {
   "cell_type": "code",
   "execution_count": 6,
   "metadata": {},
   "outputs": [
    {
     "name": "stderr",
     "output_type": "stream",
     "text": [
      "100%|██████████| 59.8k/59.8k [00:00<00:00, 5.94MB/s]"
     ]
    },
    {
     "name": "stdout",
     "output_type": "stream",
     "text": [
      "Downloading train.csv to ../data/raw\n",
      "\n"
     ]
    },
    {
     "name": "stderr",
     "output_type": "stream",
     "text": [
      "\n",
      "100%|██████████| 28.0k/28.0k [00:00<00:00, 7.73MB/s]"
     ]
    },
    {
     "name": "stdout",
     "output_type": "stream",
     "text": [
      "Downloading test.csv to ../data/raw\n",
      "\n"
     ]
    },
    {
     "name": "stderr",
     "output_type": "stream",
     "text": [
      "\n"
     ]
    }
   ],
   "source": [
    "# create kaggle API object\n",
    "api = KaggleApi()\n",
    "# authenticate\n",
    "api.authenticate()\n",
    "# file paths\n",
    "raw_data_path = os.path.join(os.path.pardir,'data','raw')\n",
    "# this will download 'titanic.zip' in the raw_data_path location\n",
    "api.competition_download_file(competition='titanic', file_name='train.csv',path=raw_data_path, force=True)\n",
    "api.competition_download_file(competition='titanic', file_name='test.csv' ,path=raw_data_path, force=True)\n"
   ]
  },
  {
   "cell_type": "code",
   "execution_count": 7,
   "metadata": {},
   "outputs": [
    {
     "name": "stdout",
     "output_type": "stream",
     "text": [
      "PassengerId,Survived,Pclass,Name,Sex,Age,SibSp,Parch,Ticket,Fare,Cabin,Embarked\r",
      "\r\n",
      "1,0,3,\"Braund, Mr. Owen Harris\",male,22,1,0,A/5 21171,7.25,,S\r",
      "\r\n",
      "2,1,1,\"Cumings, Mrs. John Bradley (Florence Briggs Thayer)\",female,38,1,0,PC 17599,71.2833,C85,C\r",
      "\r\n",
      "3,1,3,\"Heikkinen, Miss. Laina\",female,26,0,0,STON/O2. 3101282,7.925,,S\r",
      "\r\n",
      "4,1,1,\"Futrelle, Mrs. Jacques Heath (Lily May Peel)\",female,35,1,0,113803,53.1,C123,S\r",
      "\r\n"
     ]
    }
   ],
   "source": [
    "train_data_path = os.path.join(raw_data_path, 'train.csv')\n",
    "# printing top 5 rows\n",
    "!head -5 $train_data_path"
   ]
  },
  {
   "cell_type": "code",
   "execution_count": 8,
   "metadata": {},
   "outputs": [
    {
     "name": "stdout",
     "output_type": "stream",
     "text": [
      "total 57\r\n",
      "-rw-r--r-- 1 nt-user nt-user 28629 Apr 11 05:23 test.csv\r\n",
      "-rw-r--r-- 1 nt-user nt-user 61194 Apr 11 05:23 train.csv\r\n"
     ]
    }
   ],
   "source": [
    "!ls -l ../data/raw"
   ]
  },
  {
   "cell_type": "markdown",
   "metadata": {},
   "source": [
    "### Builiding the file script"
   ]
  },
  {
   "cell_type": "code",
   "execution_count": 9,
   "metadata": {},
   "outputs": [],
   "source": [
    "get_raw_data_script_file = os.path.join(os.path.pardir,'src','data','get_raw_data.py')"
   ]
  },
  {
   "cell_type": "code",
   "execution_count": 10,
   "metadata": {},
   "outputs": [
    {
     "name": "stdout",
     "output_type": "stream",
     "text": [
      "Writing ../src/data/get_raw_data.py\n"
     ]
    }
   ],
   "source": [
    "%%writefile $get_raw_data_script_file\n",
    "# -*- coding: utf-8 -*-\n",
    "import json\n",
    "import os\n",
    "import logging\n",
    "\n",
    "# getting root directory\n",
    "project_dir = os.path.join(os.path.dirname(__file__), os.pardir, os.pardir)\n",
    "# read kaggle API token and create enviornment variables\n",
    "api_file_path = os.path.join(project_dir,'kaggle.json')\n",
    "with open(api_file_path) as f:\n",
    "    kaggle_token = json.load(f)\n",
    "    # environment variable for kaggle authentication\n",
    "    os.environ[\"KAGGLE_USERNAME\"] = kaggle_token['username']\n",
    "    os.environ[\"KAGGLE_KEY\"] = kaggle_token['key']\n",
    "\n",
    "\n",
    "from kaggle.api.kaggle_api_extended import KaggleApi\n",
    "\n",
    "def main(project_dir):\n",
    "    '''\n",
    "    main method\n",
    "    '''\n",
    "    # get logger\n",
    "    logger = logging.getLogger(__name__)\n",
    "    logger.info('getting raw data')\n",
    "    \n",
    "    # file name : check from the competition data page\n",
    "    train_file_name = 'train.csv'\n",
    "    test_file_name = 'test.csv'\n",
    "\n",
    "    # file paths\n",
    "    raw_data_path = os.path.join(project_dir,'data','raw')\n",
    "    \n",
    "    # extract data\n",
    "    api = KaggleApi()\n",
    "    api.authenticate()\n",
    "    api.competition_download_file(competition='titanic', file_name=train_file_name, path=raw_data_path, force=True)\n",
    "    api.competition_download_file(competition='titanic', file_name=test_file_name, path=raw_data_path, force=True)\n",
    "    logger.info('downloaded raw training and test data')\n",
    "\n",
    "\n",
    "if __name__ == '__main__':\n",
    "    \n",
    "    # setup logger\n",
    "    log_fmt = '%(asctime)s - %(name)s - %(levelname)s - %(message)s'\n",
    "    logging.basicConfig(level=logging.INFO, format=log_fmt)\n",
    "\n",
    "    # call the main\n",
    "    main(project_dir)\n"
   ]
  },
  {
   "cell_type": "code",
   "execution_count": 12,
   "metadata": {},
   "outputs": [
    {
     "name": "stdout",
     "output_type": "stream",
     "text": [
      "2021-04-11 05:23:26,388 - __main__ - INFO - getting raw data\n",
      "Downloading train.csv to ../src/data/../../data/raw\n",
      "  0%|                                               | 0.00/59.8k [00:00<?, ?B/s]\n",
      "100%|██████████████████████████████████████| 59.8k/59.8k [00:00<00:00, 6.03MB/s]\n",
      "Downloading test.csv to ../src/data/../../data/raw\n",
      "  0%|                                               | 0.00/28.0k [00:00<?, ?B/s]\n",
      "100%|██████████████████████████████████████| 28.0k/28.0k [00:00<00:00, 5.45MB/s]\n",
      "2021-04-11 05:23:27,274 - __main__ - INFO - downloaded raw training and test data\n"
     ]
    }
   ],
   "source": [
    "!python3 $get_raw_data_script_file"
   ]
  },
  {
   "cell_type": "code",
   "execution_count": null,
   "metadata": {},
   "outputs": [],
   "source": []
  }
 ],
 "metadata": {
  "anaconda-cloud": {},
  "hide_input": false,
  "kernelspec": {
   "display_name": "Python 3",
   "language": "python",
   "name": "python3"
  },
  "language_info": {
   "codemirror_mode": {
    "name": "ipython",
    "version": 3
   },
   "file_extension": ".py",
   "mimetype": "text/x-python",
   "name": "python",
   "nbconvert_exporter": "python",
   "pygments_lexer": "ipython3",
   "version": "3.7.4"
  },
  "toc": {
   "nav_menu": {
    "height": "84px",
    "width": "252px"
   },
   "navigate_menu": true,
   "number_sections": false,
   "sideBar": true,
   "threshold": 4,
   "toc_cell": false,
   "toc_section_display": "block",
   "toc_window_display": false
  }
 },
 "nbformat": 4,
 "nbformat_minor": 1
}
